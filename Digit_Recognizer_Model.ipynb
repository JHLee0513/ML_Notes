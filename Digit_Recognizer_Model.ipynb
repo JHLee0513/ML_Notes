{
 "cells": [
  {
   "cell_type": "code",
   "execution_count": 41,
   "metadata": {},
   "outputs": [],
   "source": [
    "#Recorded accuracy = 0.9966\n",
    "\n",
    "#Courtesy to https://www.kaggle.com/yassineghouzam/introduction-to-cnn-keras-0-997-top-6\n",
    "\n",
    "\n",
    "#Testing tensorflow import works first\n",
    "import tensorflow as tf"
   ]
  },
  {
   "cell_type": "code",
   "execution_count": 42,
   "metadata": {},
   "outputs": [],
   "source": [
    "#Necessary Imports for this algorithm\n",
    "\n",
    "import pandas as pd\n",
    "import numpy as np\n",
    "import matplotlib.pyplot as plt\n",
    "import matplotlib.image as mpimg\n",
    "import seaborn as sns\n",
    "%matplotlib inline\n",
    "\n",
    "np.random.seed(2)\n",
    "\n",
    "from sklearn.model_selection import train_test_split\n",
    "from sklearn.metrics import confusion_matrix\n",
    "import itertools\n",
    "\n",
    "from keras.utils.np_utils import to_categorical # convert to one-hot-encoding\n",
    "from keras.models import Sequential\n",
    "from keras.layers import Dense, Dropout, Flatten, Conv2D, MaxPool2D\n",
    "from keras.optimizers import RMSprop\n",
    "from keras.preprocessing.image import ImageDataGenerator\n",
    "from keras.callbacks import ReduceLROnPlateau\n",
    "\n",
    "sns.set(style='white', context='notebook', palette='deep')\n"
   ]
  },
  {
   "cell_type": "code",
   "execution_count": 43,
   "metadata": {},
   "outputs": [],
   "source": [
    "# Load the data, provided by Kaggle.com\n",
    "train = pd.read_csv(\"C:\\\\Users\\\\JoonH\\\\Desktop\\\\Kaggle_data\\\\digits_train.csv\")\n",
    "test = pd.read_csv(\"C:\\\\Users\\\\JoonH\\\\Desktop\\\\Kaggle_data\\\\digits_test.csv\")"
   ]
  },
  {
   "cell_type": "code",
   "execution_count": 44,
   "metadata": {},
   "outputs": [
    {
     "data": {
      "text/plain": [
       "1    4684\n",
       "7    4401\n",
       "3    4351\n",
       "9    4188\n",
       "2    4177\n",
       "6    4137\n",
       "0    4132\n",
       "4    4072\n",
       "8    4063\n",
       "5    3795\n",
       "Name: label, dtype: int64"
      ]
     },
     "execution_count": 44,
     "metadata": {},
     "output_type": "execute_result"
    },
    {
     "data": {
      "image/png": "[encoded data removed]",
      "text/plain": [
       "<matplotlib.figure.Figure at 0x20ea64f26a0>"
      ]
     },
     "metadata": {},
     "output_type": "display_data"
    }
   ],
   "source": [
    "Y_train = train[\"label\"]\n",
    "\n",
    "# Drop 'label' column\n",
    "X_train = train.drop(labels = [\"label\"],axis = 1) \n",
    "\n",
    "# free some space\n",
    "del train \n",
    "\n",
    "g = sns.countplot(Y_train)\n",
    "\n",
    "#Plotting count of data for each digit\n",
    "Y_train.value_counts()"
   ]
  },
  {
   "cell_type": "code",
   "execution_count": 45,
   "metadata": {
    "scrolled": true
   },
   "outputs": [],
   "source": [
    "#Principal Component Analysis\n",
    "\n",
    "#from sklearn.decomposition import PCA\n",
    "\n",
    "#pca = PCA(n_components = 10)\n",
    "#X_train = pca.fit(X_train).transform(X_train)\n",
    "\n",
    "\n",
    "# TODO(0) : change code so that PCA can take place to reduce data into significant components"
   ]
  },
  {
   "cell_type": "code",
   "execution_count": 46,
   "metadata": {},
   "outputs": [
    {
     "data": {
      "text/plain": [
       "count       784\n",
       "unique        1\n",
       "top       False\n",
       "freq        784\n",
       "dtype: object"
      ]
     },
     "execution_count": 46,
     "metadata": {},
     "output_type": "execute_result"
    }
   ],
   "source": [
    "#Testing for any null or unusable data to remove before training\n",
    "X_train.isnull().any().describe()\n",
    "\n"
   ]
  },
  {
   "cell_type": "code",
   "execution_count": 47,
   "metadata": {},
   "outputs": [
    {
     "data": {
      "text/plain": [
       "count       784\n",
       "unique        1\n",
       "top       False\n",
       "freq        784\n",
       "dtype: object"
      ]
     },
     "execution_count": 47,
     "metadata": {},
     "output_type": "execute_result"
    }
   ],
   "source": [
    "#Testing for any null or unusable data\n",
    "test.isnull().any().describe()"
   ]
  },
  {
   "cell_type": "code",
   "execution_count": 48,
   "metadata": {},
   "outputs": [],
   "source": [
    "# Grayscale ormalization of the data\n",
    "# since CNN converges faster with [0,1] when current data goes [0,255]\n",
    "X_train = X_train / 255.0\n",
    "test = test / 255.0"
   ]
  },
  {
   "cell_type": "code",
   "execution_count": 49,
   "metadata": {},
   "outputs": [],
   "source": [
    "# Reshape image in 3 dimensions (height = 28px, width = 28px , canal = 1)\n",
    "X_train = X_train.values.reshape(-1,28,28,1)\n",
    "test = test.values.reshape(-1,28,28,1)"
   ]
  },
  {
   "cell_type": "code",
   "execution_count": 50,
   "metadata": {},
   "outputs": [],
   "source": [
    "# Encode labels to one hot vectors (ex : 2 -> [0,0,1,0,0,0,0,0,0,0])\n",
    "Y_train = to_categorical(Y_train, num_classes = 10)"
   ]
  },
  {
   "cell_type": "code",
   "execution_count": 51,
   "metadata": {},
   "outputs": [],
   "source": [
    "# Set the random seed, actually already set before\n",
    "random_seed = 2"
   ]
  },
  {
   "cell_type": "code",
   "execution_count": 52,
   "metadata": {},
   "outputs": [],
   "source": [
    "# Split the train and the validation set for the fitting\n",
    "X_train, X_val, Y_train, Y_val = train_test_split(X_train, Y_train, test_size = 0.1, random_state=random_seed)\n",
    "\n",
    "\n",
    "#I choosed to split the train set in two parts : a small fraction (10%) became the validation set which the model is evaluated and the rest (90%) is used to train the model.\n",
    "#Since we have 42 000 training images of balanced labels (see 2.1 Load data), a random split of the train set doesn't cause some labels to be over represented in the validation set. Be carefull with some unbalanced dataset a simple random split could cause inaccurate evaluation during the validation.\n",
    "#To avoid that, you could use stratify = True option in train_test_split function (Only for >=0.17 sklearn versions).\n"
   ]
  },
  {
   "cell_type": "code",
   "execution_count": 53,
   "metadata": {},
   "outputs": [],
   "source": [
    "# Set the CNN model \n",
    "# my CNN architechture is In -> [[Conv2D->relu]*2 -> MaxPool2D -> Dropout]*2 -> Flatten -> Dense -> Dropout -> Out\n",
    "# Expanded from origianl example model\n",
    "\n",
    "model = Sequential()\n",
    "\n",
    "model.add(Conv2D(filters = 32, kernel_size = (5,5),padding = 'Same', \n",
    "                 activation ='relu', input_shape = (28,28,1)))\n",
    "model.add(Conv2D(filters = 32, kernel_size = (5,5),padding = 'Same', \n",
    "                 activation ='relu'))\n",
    "model.add(MaxPool2D(pool_size=(2,2)))\n",
    "model.add(Dropout(0.25))\n",
    "\n",
    "\n",
    "model.add(Conv2D(filters = 64, kernel_size = (3,3),padding = 'Same', \n",
    "                 activation ='relu'))\n",
    "model.add(Conv2D(filters = 64, kernel_size = (3,3),padding = 'Same', \n",
    "                 activation ='relu'))\n",
    "model.add(MaxPool2D(pool_size=(2,2), strides=(2,2)))\n",
    "model.add(Dropout(0.25))\n",
    "\n",
    "\n",
    "model.add(Conv2D(filters = 128, kernel_size = (3,3),padding = 'Same', \n",
    "                 activation ='relu'))\n",
    "model.add(Conv2D(filters = 128, kernel_size = (3,3),padding = 'Same', \n",
    "                 activation ='relu'))\n",
    "model.add(MaxPool2D(pool_size=(2,2), strides=(2,2)))\n",
    "model.add(Dropout(0.25))\n",
    "\n",
    "model.add(Flatten())\n",
    "model.add(Dense(256, activation = \"relu\"))\n",
    "model.add(Dropout(0.5))\n",
    "model.add(Dense(10, activation = \"softmax\"))"
   ]
  },
  {
   "cell_type": "code",
   "execution_count": 54,
   "metadata": {},
   "outputs": [],
   "source": [
    "# Define the optimizer\n",
    "optimizer = RMSprop(lr=0.001, rho=0.9, epsilon=1e-08, decay=0.0)\n",
    "\n"
   ]
  },
  {
   "cell_type": "code",
   "execution_count": 55,
   "metadata": {},
   "outputs": [],
   "source": [
    "# Compile the model\n",
    "model.compile(optimizer = optimizer , loss = \"categorical_crossentropy\", metrics=[\"accuracy\"])"
   ]
  },
  {
   "cell_type": "code",
   "execution_count": 56,
   "metadata": {},
   "outputs": [],
   "source": [
    "# Set a learning rate annealer, learning rate is checked every two runes to see if accuracy has increased,\n",
    "# If not showing much improvement learning rate is reduced by factor of 0.5\n",
    "learning_rate_reduction = ReduceLROnPlateau(monitor='val_acc', \n",
    "                                            patience=2, \n",
    "                                            verbose=1, \n",
    "                                            factor=0.50, \n",
    "                                            min_lr=0.00001)"
   ]
  },
  {
   "cell_type": "code",
   "execution_count": 57,
   "metadata": {},
   "outputs": [],
   "source": [
    "epochs = 35 # Accuracy increases as epoch approaches around 30 or higher\n",
    "batch_size = 86"
   ]
  },
  {
   "cell_type": "code",
   "execution_count": 58,
   "metadata": {},
   "outputs": [],
   "source": [
    "# Without data augmentation i obtained an accuracy of 0.98114\n",
    "#history = model.fit(X_train, Y_train, batch_size = batch_size, epochs = epochs, \n",
    "#          validation_data = (X_val, Y_val), verbose = 2)"
   ]
  },
  {
   "cell_type": "code",
   "execution_count": 59,
   "metadata": {},
   "outputs": [],
   "source": [
    "# With data augmentation to prevent overfitting (accuracy 0.99286)\n",
    "\n",
    "datagen = ImageDataGenerator(\n",
    "        featurewise_center=False,  # set input mean to 0 over the dataset\n",
    "        samplewise_center=False,  # set each sample mean to 0\n",
    "        featurewise_std_normalization=False,  # divide inputs by std of the dataset\n",
    "        samplewise_std_normalization=False,  # divide each input by its std\n",
    "        zca_whitening=False,  # apply ZCA whitening\n",
    "        rotation_range=10,  # randomly rotate images in the range (degrees, 0 to 180)\n",
    "        zoom_range = 0.11, # Randomly zoom image \n",
    "        width_shift_range=0.11,  # randomly shift images horizontally (fraction of total width)\n",
    "        height_shift_range=0.11,  # randomly shift images vertically (fraction of total height)\n",
    "        horizontal_flip=False,  # randomly flip images\n",
    "        vertical_flip=False)  # randomly flip images\n",
    "\n",
    "\n",
    "datagen.fit(X_train)"
   ]
  },
  {
   "cell_type": "code",
   "execution_count": 60,
   "metadata": {},
   "outputs": [
    {
     "name": "stdout",
     "output_type": "stream",
     "text": [
      "Epoch 1/35\n",
      " - 236s - loss: 0.5595 - acc: 0.8154 - val_loss: 0.1828 - val_acc: 0.9476\n",
      "Epoch 2/35\n",
      " - 235s - loss: 0.1218 - acc: 0.9644 - val_loss: 0.0413 - val_acc: 0.9883\n",
      "Epoch 3/35\n",
      " - 232s - loss: 0.0897 - acc: 0.9747 - val_loss: 0.0521 - val_acc: 0.9845\n",
      "Epoch 4/35\n",
      " - 233s - loss: 0.0727 - acc: 0.9789 - val_loss: 0.0389 - val_acc: 0.9900\n",
      "Epoch 5/35\n",
      " - 231s - loss: 0.0687 - acc: 0.9807 - val_loss: 0.0222 - val_acc: 0.9948\n",
      "Epoch 6/35\n",
      " - 236s - loss: 0.0627 - acc: 0.9825 - val_loss: 0.0344 - val_acc: 0.9910\n",
      "Epoch 7/35\n",
      " - 228s - loss: 0.0621 - acc: 0.9833 - val_loss: 0.0377 - val_acc: 0.9888\n",
      "Epoch 8/35\n",
      " - 228s - loss: 0.0639 - acc: 0.9831 - val_loss: 0.0375 - val_acc: 0.9917\n",
      "\n",
      "Epoch 00008: ReduceLROnPlateau reducing learning rate to 0.0005000000237487257.\n",
      "Epoch 9/35\n",
      " - 227s - loss: 0.0418 - acc: 0.9879 - val_loss: 0.0355 - val_acc: 0.9924\n",
      "Epoch 10/35\n",
      " - 227s - loss: 0.0383 - acc: 0.9889 - val_loss: 0.0277 - val_acc: 0.9933\n",
      "\n",
      "Epoch 00010: ReduceLROnPlateau reducing learning rate to 0.0002500000118743628.\n",
      "Epoch 11/35\n",
      " - 227s - loss: 0.0304 - acc: 0.9916 - val_loss: 0.0249 - val_acc: 0.9950\n",
      "Epoch 12/35\n",
      " - 227s - loss: 0.0320 - acc: 0.9905 - val_loss: 0.0255 - val_acc: 0.9940\n",
      "Epoch 13/35\n",
      " - 226s - loss: 0.0287 - acc: 0.9923 - val_loss: 0.0307 - val_acc: 0.9936\n",
      "Epoch 14/35\n",
      " - 240s - loss: 0.0278 - acc: 0.9921 - val_loss: 0.0342 - val_acc: 0.9929\n",
      "\n",
      "Epoch 00014: ReduceLROnPlateau reducing learning rate to 0.0001250000059371814.\n",
      "Epoch 15/35\n",
      " - 233s - loss: 0.0244 - acc: 0.9928 - val_loss: 0.0222 - val_acc: 0.9962\n",
      "Epoch 16/35\n",
      " - 232s - loss: 0.0255 - acc: 0.9934 - val_loss: 0.0247 - val_acc: 0.9955\n",
      "Epoch 17/35\n",
      " - 227s - loss: 0.0236 - acc: 0.9933 - val_loss: 0.0292 - val_acc: 0.9936\n",
      "Epoch 18/35\n",
      " - 226s - loss: 0.0239 - acc: 0.9934 - val_loss: 0.0256 - val_acc: 0.9950\n",
      "\n",
      "Epoch 00018: ReduceLROnPlateau reducing learning rate to 6.25000029685907e-05.\n",
      "Epoch 19/35\n",
      " - 223s - loss: 0.0233 - acc: 0.9938 - val_loss: 0.0258 - val_acc: 0.9952\n",
      "Epoch 20/35\n",
      " - 229s - loss: 0.0217 - acc: 0.9946 - val_loss: 0.0264 - val_acc: 0.9950\n",
      "\n",
      "Epoch 00020: ReduceLROnPlateau reducing learning rate to 3.125000148429535e-05.\n",
      "Epoch 21/35\n",
      " - 236s - loss: 0.0232 - acc: 0.9936 - val_loss: 0.0259 - val_acc: 0.9957\n",
      "Epoch 22/35\n",
      " - 235s - loss: 0.0212 - acc: 0.9945 - val_loss: 0.0269 - val_acc: 0.9952\n",
      "\n",
      "Epoch 00022: ReduceLROnPlateau reducing learning rate to 1.5625000742147677e-05.\n",
      "Epoch 23/35\n",
      " - 225s - loss: 0.0211 - acc: 0.9944 - val_loss: 0.0272 - val_acc: 0.9952\n",
      "Epoch 24/35\n",
      " - 228s - loss: 0.0203 - acc: 0.9946 - val_loss: 0.0284 - val_acc: 0.9948\n",
      "\n",
      "Epoch 00024: ReduceLROnPlateau reducing learning rate to 1e-05.\n",
      "Epoch 25/35\n",
      " - 226s - loss: 0.0217 - acc: 0.9941 - val_loss: 0.0274 - val_acc: 0.9945\n",
      "Epoch 26/35\n",
      " - 227s - loss: 0.0199 - acc: 0.9948 - val_loss: 0.0268 - val_acc: 0.9950\n",
      "Epoch 27/35\n",
      " - 227s - loss: 0.0191 - acc: 0.9943 - val_loss: 0.0272 - val_acc: 0.9952\n",
      "Epoch 28/35\n",
      " - 230s - loss: 0.0195 - acc: 0.9945 - val_loss: 0.0278 - val_acc: 0.9950\n",
      "Epoch 29/35\n",
      " - 233s - loss: 0.0215 - acc: 0.9941 - val_loss: 0.0268 - val_acc: 0.9955\n",
      "Epoch 30/35\n",
      " - 242s - loss: 0.0204 - acc: 0.9945 - val_loss: 0.0268 - val_acc: 0.9952\n",
      "Epoch 31/35\n",
      " - 233s - loss: 0.0193 - acc: 0.9947 - val_loss: 0.0273 - val_acc: 0.9955\n",
      "Epoch 32/35\n",
      " - 233s - loss: 0.0180 - acc: 0.9949 - val_loss: 0.0269 - val_acc: 0.9955\n",
      "Epoch 33/35\n",
      " - 236s - loss: 0.0191 - acc: 0.9947 - val_loss: 0.0273 - val_acc: 0.9955\n",
      "Epoch 34/35\n",
      " - 232s - loss: 0.0199 - acc: 0.9945 - val_loss: 0.0256 - val_acc: 0.9957\n",
      "Epoch 35/35\n",
      " - 234s - loss: 0.0195 - acc: 0.9941 - val_loss: 0.0264 - val_acc: 0.9955\n"
     ]
    }
   ],
   "source": [
    "# Fit the model\n",
    "history = model.fit_generator(datagen.flow(X_train,Y_train, batch_size=batch_size),\n",
    "                              epochs = epochs, validation_data = (X_val,Y_val),\n",
    "                              verbose = 2, steps_per_epoch=X_train.shape[0] // batch_size\n",
    "                              , callbacks=[learning_rate_reduction])"
   ]
  },
  {
   "cell_type": "code",
   "execution_count": 61,
   "metadata": {},
   "outputs": [],
   "source": [
    "#Save the Model\n",
    "# TODO(): YAML saving and loading model"
   ]
  },
  {
   "cell_type": "code",
   "execution_count": 62,
   "metadata": {},
   "outputs": [],
   "source": [
    "# predict results\n",
    "results = model.predict(test)\n",
    "\n",
    "# select the indix with the maximum probability\n",
    "# Save final prediction results into csv file\n",
    "results = np.argmax(results,axis = 1)\n",
    "\n",
    "results = pd.Series(results,name=\"Label\")\n",
    "\n",
    "submission = pd.concat([pd.Series(range(1,28001),name = \"ImageId\"),results],axis = 1)\n",
    "\n",
    "submission.to_csv(\"digits_submission.csv\",index=False)"
   ]
  }
 ],
 "metadata": {
  "kernelspec": {
   "display_name": "Python 3",
   "language": "python",
   "name": "python3"
  },
  "language_info": {
   "codemirror_mode": {
    "name": "ipython",
    "version": 3
   },
   "file_extension": ".py",
   "mimetype": "text/x-python",
   "name": "python",
   "nbconvert_exporter": "python",
   "pygments_lexer": "ipython3",
   "version": "3.5.4"
  }
 },
 "nbformat": 4,
 "nbformat_minor": 2
}
