{
 "cells": [
  {
   "cell_type": "code",
   "execution_count": null,
   "metadata": {},
   "outputs": [],
   "source": [
    "#Self made notes of restricted boltzmann machine with example. Referenced\n",
    "# Advanced Machine Learning with Python\n",
    "\n"
   ]
  },
  {
   "cell_type": "code",
   "execution_count": null,
   "metadata": {},
   "outputs": [],
   "source": [
    "'''\n",
    "Boltzmann machine is a type of stochastic, recurrent neural network. It is an \n",
    "energy-based model, meaning it uses an energy function associated with an energy\n",
    "value with each configuration of the network.\n",
    "\n",
    "Boltzmann machine is a directed cyclic graph, in which every node is connected \n",
    "to one another in the network. This enables the model to work in a recurrent \n",
    "fashion. \n",
    "\n",
    "The learning involves maximizing probability of training dataset X. The machine\n",
    "is not ideal for very complex ML problems, due to its limitation in scale. To\n",
    "add more nodes the computing time needs to be increased exponentially. \n",
    "\n",
    "The RBM is typically trained using the Permanent Constastive Divergence algorithm.\n",
    "or PCD, which provides an approximation of maximum likelihood. PCD doesn't\n",
    "evaluate the energy function, but estimates the gradient of the energy function.\n",
    "\n",
    "PCD has two phases. Referred to as positive and negative phases, each phase\n",
    "has a corresponding effect on the energy of the model. The positive phase\n",
    "increases the probability of the training dataset, thus reducing the energy\n",
    "of the model. The negative uses sampling approach to estimate the negative\n",
    "phase gradient, and hence decreases the probability of samples generated\n",
    "by the model. Gibbs sampling is used for the negative phase.\n",
    "\n",
    "Some of you may be asking at this point why PCD is necessary. \n",
    "Why not use a more familiar method, such as gradient descent with line search?\n",
    "To put it simply, we cannot easily calculate the free energy of our network \n",
    "as this calculation involves an integration across all the network's nodes. \n",
    "We recognized this limitation when we called out the big weakness of the \n",
    "Boltzmann machine—that the compute time grows exponentially as the number of\n",
    "nodes increases, leaving us in a situation where we're trying to minimize a\n",
    "function whose value we cannot calculate! What PCD provides is a way to \n",
    "estimate the gradient of the energy function. This enables an approximation \n",
    "of the network's free energy, which is fast enough to be viable for \n",
    "application and has shown to be generally accurate. \n",
    "\n",
    "The training loop in an initialized RBM involves several steps:\n",
    "1. We obtain the current iteration's activated hidden layer weight values. \n",
    "2. We perform the positive phase of PCD, using the state of the Gibbs chain\n",
    "from the previous iteration as input. \n",
    "3. We perform the negative phase of PCD using the pre-existing state \n",
    "of the Gibbs chain. This gives us the free energy value. \n",
    "4. We update the activated weights on the hidden layer using the energy value\n",
    "we've calculated.\n",
    "\n",
    "\n",
    "'''"
   ]
  },
  {
   "cell_type": "code",
   "execution_count": null,
   "metadata": {},
   "outputs": [],
   "source": [
    "'''\n",
    " The code we're about to review does the following:\n",
    " • It sets up the initial parameters of an RBM, including layer size, \n",
    " shareable bias vectors, and shareable weight matrix for connectivity with \n",
    " external network structures (this enables deep belief networks) \n",
    " • It defines functions for communication and inference between hidden and\n",
    " visible layers\n",
    " • It defines functions that allow us to update the parameters of network\n",
    " nodes \n",
    " • It defines functions that handle efficient sampling for the learning \n",
    " process, using PCD-k to accelerate sampling \n",
    " (making it possible to compute in a reasonable frame of time) \n",
    " • It defines functions that compute the free energy of the model \n",
    " (used to calculate the gradient required for PCD-k updates) \n",
    " • It identifies the Psuedo-Likelihood (PL), usable as a log-likelihood proxy\n",
    " to guide the selection of appropriate hyperparameters \n",
    " \n",
    " \n",
    " '''\n"
   ]
  }
 ],
 "metadata": {
  "kernelspec": {
   "display_name": "Python 3",
   "language": "python",
   "name": "python3"
  },
  "language_info": {
   "codemirror_mode": {
    "name": "ipython",
    "version": 3
   },
   "file_extension": ".py",
   "mimetype": "text/x-python",
   "name": "python",
   "nbconvert_exporter": "python",
   "pygments_lexer": "ipython3",
   "version": "3.5.4"
  }
 },
 "nbformat": 4,
 "nbformat_minor": 2
}
